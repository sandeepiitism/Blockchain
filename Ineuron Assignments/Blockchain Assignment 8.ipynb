{
 "cells": [
  {
   "cell_type": "markdown",
   "id": "75b89151",
   "metadata": {},
   "source": [
    "### 1. Write the conversion rates for all of the following ether units with respect to wei:"
   ]
  },
  {
   "cell_type": "markdown",
   "id": "b8bfae4c",
   "metadata": {},
   "source": [
    "| Ether uints | Wei | \n",
    "| --- | --- | \n",
    "| Babbage (Kwei) | 1000000000000000 | \n",
    "| Lovelace (Mwei) | 1000000000000 | \n",
    "| Shannon (Gwei)| 1000000000 | \n",
    "| Szabo (Twei) | 1000000 | \n",
    "| Finney (Pwei)| 1000 | \n",
    "| Ether | 1 | "
   ]
  },
  {
   "cell_type": "code",
   "execution_count": null,
   "id": "11f2955b",
   "metadata": {},
   "outputs": [],
   "source": []
  }
 ],
 "metadata": {
  "kernelspec": {
   "display_name": "Python 3",
   "language": "python",
   "name": "python3"
  },
  "language_info": {
   "codemirror_mode": {
    "name": "ipython",
    "version": 3
   },
   "file_extension": ".py",
   "mimetype": "text/x-python",
   "name": "python",
   "nbconvert_exporter": "python",
   "pygments_lexer": "ipython3",
   "version": "3.8.8"
  }
 },
 "nbformat": 4,
 "nbformat_minor": 5
}
