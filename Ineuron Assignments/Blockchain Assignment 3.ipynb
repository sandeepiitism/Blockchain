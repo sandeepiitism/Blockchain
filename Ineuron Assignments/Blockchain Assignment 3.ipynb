{
 "cells": [
  {
   "cell_type": "markdown",
   "id": "e6aef33a",
   "metadata": {},
   "source": [
    "###  1. How is a block mined in the bitcoin blockchain? How can you identify a validated block?"
   ]
  },
  {
   "cell_type": "markdown",
   "id": "685de250",
   "metadata": {},
   "source": [
    "Steps to Mined in Bitcoin Blockchain\n",
    "- Users make a transaction and pose it to the Bitcoin network.\n",
    "- Miners mine transaction blocks to build the blockchain.\n",
    "- Nodes validate transaction data.\n",
    "\n",
    "On the Bitcoin network, all full nodes are validators. Each and every node will check every block it receives to make sure the proof of work is valid, the transactions match the merkle root, the transactions themselves are valid, the block time/size are valid, among other consensus rules."
   ]
  },
  {
   "cell_type": "markdown",
   "id": "1fb8ce6d",
   "metadata": {},
   "source": [
    "### 2. How is a bitcoin transaction validated? What are the steps to make a transaction in bitcoin blockchain?"
   ]
  },
  {
   "cell_type": "markdown",
   "id": "ffe54ef2",
   "metadata": {},
   "source": [
    "A blocked is mined and broadcaast to the nodes participating in the network who will identfy and validate the correct hash which a miner mined by solving complex cryptographic hash puzzles to verify blocks of transactions that are updated on the decentralized blockchain ledger which requires powerful computing power and sophisticated equipment. In return, miners are rewarded with cryptocurrencies, which is then released into circulation.\n",
    "\n",
    "Steps to make a Transaction in Bitcoin: <br> <br>\n",
    "To send:\n",
    "- Install a bitcoin wallet app, select the type of currency you want to send.\n",
    "- Write in the receiver’s address using private key.\n",
    "- Type the amount of bitcoin you wish to send.\n",
    "- Pay the required transaction fee.\n",
    "- Press the “send bitcoin” button and the cryptocurrency will be transferred.\n",
    "\n",
    "To Receive:\n",
    "- Open the wallet and click receive.\n",
    "- Share the public key address.\n",
    "- Anyone with a public address can send the cryptocurrency."
   ]
  },
  {
   "cell_type": "markdown",
   "id": "aed603d4",
   "metadata": {},
   "source": [
    "### 3. What is the Merkle Tree? What problem does it solve?"
   ]
  },
  {
   "cell_type": "markdown",
   "id": "d17c07ee",
   "metadata": {},
   "source": [
    "A Merkle Tree is a way of structuring data that allows a large body of information to be verified for accuracy both extremely efficiently and quickly.\n",
    "\n",
    "<b>Problem</b>: Blockchains are usually made up of hundreds of thousands of blocks, and that each block can contain up to several thousand transactions, it becomes clear that memory space and computing power are two big problems. It is advantageous to use as little data as possible when processing and verifying transactions. It not only reduces CPU processing times, but also ensures a higher level of security.\n",
    "\n",
    "<b>Solution</b>: Merkle Trees take an enormous number of transaction IDs and run them through a mathematical process that results in one 64-character code, which is called a Merkle Root. The Merkle Root is vital because it authorizes any computer to quickly verify that a specific transaction took place on a certain block as accurately as possible. A Merkle Tree separates the validation of data from the data itself.\n",
    "\n",
    "<b>Advantages</b>:\n",
    "- They provide a way to prove both the integrity and validity of data\n",
    "- They significantly reduce the amount of memory needed to do the above\n",
    "- The required proof and management only needs small amounts of information to be transmitted across networks\n",
    "- Simplified Payment Verification (SPV) – a way of verifying transactions in a block without downloading an entire block. Often used by lightweight Bitcoin clients."
   ]
  },
  {
   "cell_type": "markdown",
   "id": "515d5760",
   "metadata": {},
   "source": [
    "### 4. What is Byzantine’s Fault Tolerance? What is it used for?"
   ]
  },
  {
   "cell_type": "markdown",
   "id": "e7a938e1",
   "metadata": {},
   "source": [
    "<b>Byzantine Fault Tolerance (BFT)</b> is one of the most difficult challenges faced by the Block chain technology. All the participants of the cryptocurrency network need to agree, or give consensus regularly about the current state of the block chain. At least (2/3) two thirds or more reliable and honest nodes in the network make it a reliable network. If more than half of the nodes act maliciously, then the system has to face the 51% attack, which is discussed in a separate article.\n",
    "\n",
    "<b>Use</b>:\n",
    "BFT has certain use cases which include the aviation, space, and nuclear power industries. Bitcoin solves the Byzantine general problem by its decentralized verification method and becomes the world’s largest cryptocurrency.\n",
    "\n",
    "BFT in distributed systems and its integration through practical Byzantine Fault Tolerance algorithm into the real-world systems remains a key-infrastructure component of cryptocurrencies today. \n"
   ]
  },
  {
   "cell_type": "markdown",
   "id": "a90010f7",
   "metadata": {},
   "source": [
    "### 5. What is the Bitcoin incentive structure? How are rewards distributed to miners?"
   ]
  },
  {
   "cell_type": "markdown",
   "id": "d632ecde",
   "metadata": {},
   "source": [
    "<b>Bitcoin Incentive Structure </b>:\n",
    "The Bitcoin incentive is to encourage nodes to stay honest. As mining is resource and energy intensive due to PoW consesus mechanism, If greedy attackers such as Bitmain and Bitcoin.com who seek to drastically alter the protocol are able to assemble more CPU power than all the honest nodes, they would have to choose between using it to defraud people by stealing back their payments, or using it to generate new coins\n",
    "\n",
    "\n",
    "<b> Distribution </b>:\n",
    "Initially the block reward of Bitcoin network was 50 BTC. However this is not constant. The block reward structure in Bitcoin is designed in such a way that it halves every 210,000 blocks. Since the block time of Bitcoin is 10 Minute; roughly every 4 years  the block reward halving occurs. Started in 2009 the first halving occurred in November 2013 which lowered the block reward from 50 BTC to 25 BTC. Currently (as of March 2022) the block reward of Bitcoin is 6.25 BTC. Every time a miner finds a new block they will receive a reward of 6.25 BTC (excluding transaction fees)."
   ]
  },
  {
   "cell_type": "code",
   "execution_count": null,
   "id": "126cb411",
   "metadata": {},
   "outputs": [],
   "source": []
  }
 ],
 "metadata": {
  "kernelspec": {
   "display_name": "Python 3",
   "language": "python",
   "name": "python3"
  },
  "language_info": {
   "codemirror_mode": {
    "name": "ipython",
    "version": 3
   },
   "file_extension": ".py",
   "mimetype": "text/x-python",
   "name": "python",
   "nbconvert_exporter": "python",
   "pygments_lexer": "ipython3",
   "version": "3.8.8"
  }
 },
 "nbformat": 4,
 "nbformat_minor": 5
}
