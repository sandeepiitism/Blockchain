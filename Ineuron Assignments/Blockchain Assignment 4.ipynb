{
 "cells": [
  {
   "cell_type": "markdown",
   "id": "5da78ed0",
   "metadata": {},
   "source": [
    "### 1. What does turing completeness mean?"
   ]
  },
  {
   "cell_type": "markdown",
   "id": "fb0922e5",
   "metadata": {},
   "source": [
    "In simple words, Implementation of any idea into code and logics using loops and functions is called Turing complete. \n",
    "<br><b> OR </b></br><br>\n",
    "A <b>Turing complete </b>language is one that can perform any computation and A <b>Turing machine </b>is a machine with infinite random access memory and a finite 'program' that dictates when it should read, write, and move across that memory, when it should terminate with a certain result"
   ]
  },
  {
   "cell_type": "markdown",
   "id": "47f2a82b",
   "metadata": {},
   "source": [
    "### 2. Which drawbacks of bitcoin blockchain does ethereum blockchain overcome?"
   ]
  },
  {
   "cell_type": "markdown",
   "id": "d48129cd",
   "metadata": {},
   "source": [
    "Bitcoin is limited to crytocurrency while Ethereum is not just a currency – it’s a platform for creation of Distributed Applications (dApps) and Smart Contracts. It has its own digital currency called Ether (ETH).\n",
    "\n",
    "Also Bitcoin is working on Proof of Work mechanism which is energy intensive while Ethereum is migrating to proof of stake."
   ]
  },
  {
   "cell_type": "markdown",
   "id": "1e647a09",
   "metadata": {},
   "source": [
    "### 3. What are Externally Owned Accounts (EOA) in the Ethereum blockchain?"
   ]
  },
  {
   "cell_type": "markdown",
   "id": "4b66f81c",
   "metadata": {},
   "source": [
    "There are 2 kinds of account in Ethereum blockchain: \n",
    "- Externally Owned Account (EOA)\n",
    "- Contract Account\n",
    "\n",
    "An externally owned account has no code, and one can send messages from an externally owned account by creating and signing a transaction."
   ]
  },
  {
   "cell_type": "markdown",
   "id": "dc8c48e3",
   "metadata": {},
   "source": [
    "### 4. What are Contract Accounts (CA) in the Ethereum blockchain?"
   ]
  },
  {
   "cell_type": "markdown",
   "id": "f78ca814",
   "metadata": {},
   "source": [
    "A contract account, every time the contract account receives a message its code activates, allowing it to read and write to internal storage and send other messages or create contracts in turn."
   ]
  },
  {
   "cell_type": "markdown",
   "id": "08438fe6",
   "metadata": {},
   "source": [
    "### 5. Why do we need to pay gas fees in the Ethereum blockchain?"
   ]
  },
  {
   "cell_type": "markdown",
   "id": "14935713",
   "metadata": {},
   "source": [
    "Ethereum, like Bitcoin, currently uses a Proof-of-Work mining model. In proof-of-work, miners are decentralized computers that use their computing power to process and confirm transactions. In Ethereum, new transactions get added in \"blocks\" every 15 seconds. Miners are a built-in mechanism of the Ethereum blockchain and get paid in Ethereum's native cryptocurrency, ETH. \n",
    "\n",
    "When you pay for gas fees, the payment only guarantees your transaction to be processed. It does not guarantee that the transaction will succeed. This small gas fee is to compensate the miners cost for bearing the infrastructural cost for mining."
   ]
  },
  {
   "cell_type": "code",
   "execution_count": null,
   "id": "54b3085e",
   "metadata": {},
   "outputs": [],
   "source": []
  }
 ],
 "metadata": {
  "kernelspec": {
   "display_name": "Python 3",
   "language": "python",
   "name": "python3"
  },
  "language_info": {
   "codemirror_mode": {
    "name": "ipython",
    "version": 3
   },
   "file_extension": ".py",
   "mimetype": "text/x-python",
   "name": "python",
   "nbconvert_exporter": "python",
   "pygments_lexer": "ipython3",
   "version": "3.8.8"
  }
 },
 "nbformat": 4,
 "nbformat_minor": 5
}
