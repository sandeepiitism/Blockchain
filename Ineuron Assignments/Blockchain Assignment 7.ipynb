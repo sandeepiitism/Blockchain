{
 "cells": [
  {
   "cell_type": "markdown",
   "id": "60ab6cb1",
   "metadata": {},
   "source": [
    "### 1. What is Geth? What is it used for?"
   ]
  },
  {
   "cell_type": "markdown",
   "id": "7f94cbda",
   "metadata": {},
   "source": [
    "Geth (which stands for Go Ethereum) is a command-line interface used to run an Ethereum node implemented in Go language, allowing developers to mine ether – the platform’s native cryptocurrency, validate ether transactions and execute smart contracts on the Ethereum network."
   ]
  },
  {
   "cell_type": "markdown",
   "id": "455fe467",
   "metadata": {},
   "source": [
    "### 2. Write the gas costs for following operations with respect to Ethereum Virtual Machine:"
   ]
  },
  {
   "cell_type": "markdown",
   "id": "dfe7138f",
   "metadata": {},
   "source": [
    "| Operations | Gas Cost | \n",
    "| --- | --- | \n",
    "| AND | 3 | \n",
    "| OR | 3 | \n",
    "| NOT | 3 | \n",
    "| XOR | 3 | \n",
    "| SHA3 | 30 + 6 * (size of input in words) | \n",
    "| BALANCE | 400 | \n",
    "| DIFFICULTY | 2 | \n",
    "| GASLIMIT | 2 | \n",
    "| POP | 2 |\n",
    "| MOD | 5 |\n",
    "| SMOD | 5 |\n",
    "| ADDMOD | 8 |\n",
    "| MULMOD | 8 |\n",
    "| COINBASE | 2 |\n",
    "| TIMESTAMP | 2 |"
   ]
  },
  {
   "cell_type": "markdown",
   "id": "63b3c2ad",
   "metadata": {},
   "source": []
  }
 ],
 "metadata": {
  "kernelspec": {
   "display_name": "Python 3",
   "language": "python",
   "name": "python3"
  },
  "language_info": {
   "codemirror_mode": {
    "name": "ipython",
    "version": 3
   },
   "file_extension": ".py",
   "mimetype": "text/x-python",
   "name": "python",
   "nbconvert_exporter": "python",
   "pygments_lexer": "ipython3",
   "version": "3.8.8"
  }
 },
 "nbformat": 4,
 "nbformat_minor": 5
}
