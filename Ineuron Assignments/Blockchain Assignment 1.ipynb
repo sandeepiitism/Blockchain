{
 "cells": [
  {
   "cell_type": "markdown",
   "id": "a23ec636",
   "metadata": {},
   "source": [
    "### 1. Explain the concept of hash with respect to bitcoin blockchain.\n",
    "\n",
    "\n",
    "Hashing refers to the transformation of an input data of any length into a string of a fixed size using specific algorithm. \n",
    "In Bitcoin hash algorithm is SHA-256 characteristics to run its consensus mechanism. \n",
    "\n",
    "The implementation of a cryptographic hash function is beneficial to prevent fraudulent transactions and `double spending` in bitcoin blockchain.\n",
    "\n",
    "\n"
   ]
  },
  {
   "cell_type": "markdown",
   "id": "771a9093",
   "metadata": {},
   "source": [
    "### 2. What is one way mapping? How is it different from 2 way mapping?\n",
    "\n",
    "A one-way mapping is arbitrary length input and output, which are irreversibles like messages are hashed to string but cannot be converted back to message While a 2 way mapping is 1: 1 mapping between arbitrary length input and output, which are always reversible like  turning data or information into an unreadable format that can later be converted to readable format.\n",
    "\n",
    "`Example`: Encryption is a two-way function while Hashing is a one-way function.\n"
   ]
  },
  {
   "cell_type": "markdown",
   "id": "082e1dca",
   "metadata": {},
   "source": [
    "### 3. What is the public key and private key in blockchain? Explain with the help of a suitable example.\n",
    "\n",
    "The public key is distributed worldwide and is truly public as its name suggests. The private key is to be strictly held private and one should never lose it. Both public and private key are mathematically linked to each other. One can derive public key from private key but vice-versa is not possible. \n",
    "\n",
    "`Example`: Public key is the address to the wallet like in case of our bank account and private key is the prove of ownership like a upi pin."
   ]
  },
  {
   "cell_type": "markdown",
   "id": "9aa8b3c1",
   "metadata": {},
   "source": [
    "### 4. What web 2.0 problems does web 3.0 solve?\n",
    "\n",
    "Web 2.0 has brought two way user interaction in the world of internet. Here, you can login, share text, images, videos, data, audio, etc. At the same time, all of your data is stored in centralised servers which is in interest is also shared with the third parties. The only problems associated with Web 2.0 is Centralisation and Privacy.\n",
    "\n",
    "Web 3.0 networks would be running via decentralised nodes and technology like blockchain will enable the privacy and high availability of your data's."
   ]
  },
  {
   "cell_type": "markdown",
   "id": "97036f38",
   "metadata": {},
   "source": [
    "### 5. What are the different technologies in web 3.0?\n",
    "\n",
    "Technologies such as Blockchain, Artificial Intelligence, Metaverse, Augmented Reality/Virtual Reality and 5G will be catering the Web 3.0."
   ]
  },
  {
   "cell_type": "code",
   "execution_count": null,
   "id": "eff7ea40",
   "metadata": {},
   "outputs": [],
   "source": []
  }
 ],
 "metadata": {
  "kernelspec": {
   "display_name": "Python 3",
   "language": "python",
   "name": "python3"
  },
  "language_info": {
   "codemirror_mode": {
    "name": "ipython",
    "version": 3
   },
   "file_extension": ".py",
   "mimetype": "text/x-python",
   "name": "python",
   "nbconvert_exporter": "python",
   "pygments_lexer": "ipython3",
   "version": "3.8.8"
  }
 },
 "nbformat": 4,
 "nbformat_minor": 5
}
