{
 "cells": [
  {
   "cell_type": "markdown",
   "id": "78584d0a",
   "metadata": {},
   "source": [
    "### 1. What is the nonce value? How does it affect acceptance of blocks in blockchain?"
   ]
  },
  {
   "cell_type": "markdown",
   "id": "7ff644ab",
   "metadata": {},
   "source": [
    "In cryptography, a <b>Nonce</b> is an arbitrary number that can be used just once in a cryptographic communication. It is often a random number issued in an authentication protocol to ensure that, same communication is not reused.\n",
    "\n",
    "In Blockchain, the <b>Nonce</b> is a random whole number, which is a 32-bit (4 byte) field, which is adjusted by the miners, so that it becomes a valid number to be used for hashing the value of block. Once the perfect Nonce is found, it is added to the hashed block. On acceptance, Blockchian has a unique feature of storing the value of previous block as a hash value in the current block, which makes it impossible to alter any block without changing all the subsequent blocks."
   ]
  },
  {
   "cell_type": "markdown",
   "id": "4a2118d7",
   "metadata": {},
   "source": [
    "### 2. What is the condition to verify that a particular block has been mined? How can other nodes identify this?"
   ]
  },
  {
   "cell_type": "markdown",
   "id": "ca74fa1d",
   "metadata": {},
   "source": [
    "A blocked is mined and broadcaast to the nodes participating in the network who will identfy and validate the correct hash which a miner mined by solving complex cryptographic hash puzzles to verify blocks of transactions that are updated on the decentralized blockchain ledger which requires powerful computing power and sophisticated equipment. In return, miners are rewarded with cryptocurrencies, which is then released into circulation.\n",
    "\n",
    "On the Bitcoin network, all full nodes are validators. Each and every node will check every block it receives to make sure the proof of work is valid, the transactions match the merkle root, the transactions themselves are valid, the block time/size are valid, among other consensus rules."
   ]
  },
  {
   "cell_type": "markdown",
   "id": "e946605d",
   "metadata": {},
   "source": [
    "### 3. How does bitcoin blockchain ensure an immutable ledger? Demonstrate with the help of an example."
   ]
  },
  {
   "cell_type": "markdown",
   "id": "bf058162",
   "metadata": {},
   "source": [
    "A blockchain system operates across a peer-to-peer (P2P) network where every network peer shares the computing/networking load and maintains complete copies of the data. Every record, or set of records, added to the ledger represents a block of data.Every block links to the previous block by including a cryptographic hash, a timestamp and transaction metadata. A record cannot change without altering the cryptographic hash as well as all hashes in subsequent blocks. The combination of cryptography and block interrelationships makes a blockchain database highly secure and immutable ledger.\n",
    "\n",
    "<b> Example </b>: Bitcoin ledger contains all the immutabe transaction records and In Ethereurm smart contracts are the immutable ledger."
   ]
  },
  {
   "cell_type": "markdown",
   "id": "26b4eded",
   "metadata": {},
   "source": [
    "### 4. What is the difference between centralised vs decentralised blockchain?"
   ]
  },
  {
   "cell_type": "markdown",
   "id": "b011caa1",
   "metadata": {},
   "source": [
    "Blockchains are supposed to work according to rules enforced by consensus, where anyone can participate and anyone can check that the rules are being followed.\n",
    "\n",
    "In <b> Centralized Blockchain systems </b>, most people who participate have to trust that a small number of individuals or entities are following the rules. Or at least, they have to trust the people who say they’ve checked to make sure those in control are following the rules. \n",
    "\n",
    "In <b> Decentralized Bockchain systems </b>, however, shift power away from a small minority and eliminate the need for trust. Instead, anyone can check the ledger or contribute computational power to reproducing it."
   ]
  },
  {
   "cell_type": "markdown",
   "id": "ab5e5c74",
   "metadata": {},
   "source": [
    "### 5. How does decentralised and distributed blockchain ensure that the longest chain is the honest chain in the network?"
   ]
  },
  {
   "cell_type": "markdown",
   "id": "30d9ae6c",
   "metadata": {},
   "source": [
    "The longest chain is the chain of blocks that took the most effort to build.\n",
    "\n",
    "A blockchain with more blocks in it will have taken more energy to build than a chain with fewer blocks in it, and as a rule nodes will always adopt this chain over a “shorter” one. The fact that nodes always adopt the longest chain as the valid version of the blockchain means that it is very difficult to replace blocks (and therefore transactions) in the chain. If anyone wanted to replace a transaction in the blockchain, they would need to work to build a new longest chain to replace the current one. However, if the majority of miners are continually working to extend the same current longest known chain, an individual miner won’t be able to compete to outwork all of the other miners and hence more honest.\n",
    "\n",
    "Also, If you tried to spend the bitcoins from a transaction that is not in the longest chain, nodes would not accept it nor try to mine it in to a block. This is because nodes only consider the longest chain the valid history history of transactions, and anything outside of that is not a valid transaction."
   ]
  },
  {
   "cell_type": "code",
   "execution_count": null,
   "id": "dfda01a3",
   "metadata": {},
   "outputs": [],
   "source": []
  }
 ],
 "metadata": {
  "kernelspec": {
   "display_name": "Python 3",
   "language": "python",
   "name": "python3"
  },
  "language_info": {
   "codemirror_mode": {
    "name": "ipython",
    "version": 3
   },
   "file_extension": ".py",
   "mimetype": "text/x-python",
   "name": "python",
   "nbconvert_exporter": "python",
   "pygments_lexer": "ipython3",
   "version": "3.8.8"
  }
 },
 "nbformat": 4,
 "nbformat_minor": 5
}
